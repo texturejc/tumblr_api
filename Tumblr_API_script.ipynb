{
 "cells": [
  {
   "cell_type": "markdown",
   "id": "edf67370",
   "metadata": {},
   "source": [
    "# Tumblr API integration"
   ]
  },
  {
   "cell_type": "code",
   "execution_count": 1,
   "id": "88367c04",
   "metadata": {},
   "outputs": [
    {
     "name": "stdout",
     "output_type": "stream",
     "text": [
      "Collecting pytumblr\n",
      "  Downloading PyTumblr-0.1.2-py2.py3-none-any.whl (19 kB)\n",
      "Requirement already satisfied: future in ./opt/anaconda3/lib/python3.9/site-packages (from pytumblr) (0.18.2)\n",
      "Collecting requests-oauthlib (from pytumblr)\n",
      "  Downloading requests_oauthlib-1.3.1-py2.py3-none-any.whl (23 kB)\n",
      "Collecting oauthlib>=3.0.0 (from requests-oauthlib->pytumblr)\n",
      "  Downloading oauthlib-3.2.2-py3-none-any.whl (151 kB)\n",
      "\u001b[2K     \u001b[90m━━━━━━━━━━━━━━━━━━━━━━━━━━━━━━━━━━━━━━━\u001b[0m \u001b[32m151.7/151.7 kB\u001b[0m \u001b[31m3.6 MB/s\u001b[0m eta \u001b[36m0:00:00\u001b[0ma \u001b[36m0:00:01\u001b[0m\n",
      "\u001b[?25hRequirement already satisfied: requests>=2.0.0 in ./opt/anaconda3/lib/python3.9/site-packages (from requests-oauthlib->pytumblr) (2.26.0)\n",
      "Requirement already satisfied: urllib3<1.27,>=1.21.1 in ./opt/anaconda3/lib/python3.9/site-packages (from requests>=2.0.0->requests-oauthlib->pytumblr) (1.26.7)\n",
      "Requirement already satisfied: certifi>=2017.4.17 in ./opt/anaconda3/lib/python3.9/site-packages (from requests>=2.0.0->requests-oauthlib->pytumblr) (2021.10.8)\n",
      "Requirement already satisfied: charset-normalizer~=2.0.0 in ./opt/anaconda3/lib/python3.9/site-packages (from requests>=2.0.0->requests-oauthlib->pytumblr) (2.0.4)\n",
      "Requirement already satisfied: idna<4,>=2.5 in ./opt/anaconda3/lib/python3.9/site-packages (from requests>=2.0.0->requests-oauthlib->pytumblr) (3.2)\n",
      "\u001b[33mDEPRECATION: pyodbc 4.0.0-unsupported has a non-standard version number. pip 23.3 will enforce this behaviour change. A possible replacement is to upgrade to a newer version of pyodbc or contact the author to suggest that they release a version with a conforming version number. Discussion can be found at https://github.com/pypa/pip/issues/12063\u001b[0m\u001b[33m\n",
      "\u001b[0mInstalling collected packages: oauthlib, requests-oauthlib, pytumblr\n",
      "Successfully installed oauthlib-3.2.2 pytumblr-0.1.2 requests-oauthlib-1.3.1\n",
      "\n",
      "\u001b[1m[\u001b[0m\u001b[34;49mnotice\u001b[0m\u001b[1;39;49m]\u001b[0m\u001b[39;49m A new release of pip is available: \u001b[0m\u001b[31;49m23.2.1\u001b[0m\u001b[39;49m -> \u001b[0m\u001b[32;49m23.3.1\u001b[0m\n",
      "\u001b[1m[\u001b[0m\u001b[34;49mnotice\u001b[0m\u001b[1;39;49m]\u001b[0m\u001b[39;49m To update, run: \u001b[0m\u001b[32;49mpip install --upgrade pip\u001b[0m\n"
     ]
    }
   ],
   "source": [
    "!pip install pytumblr #Tumblr API client python binding\n"
   ]
  },
  {
   "cell_type": "code",
   "execution_count": null,
   "id": "f76cbeb1",
   "metadata": {},
   "outputs": [],
   "source": [
    "!pip install beautifulsoup4"
   ]
  },
  {
   "cell_type": "code",
   "execution_count": 17,
   "id": "5d6400cd",
   "metadata": {},
   "outputs": [],
   "source": [
    "import pytumblr\n",
    "import pandas as pd\n",
    "import time\n",
    "from IPython.core.display import display, HTML"
   ]
  },
  {
   "cell_type": "code",
   "execution_count": null,
   "id": "efe6b40b",
   "metadata": {},
   "outputs": [],
   "source": [
    "client = pytumblr.TumblrRestClient(\n",
    "  '2ys8WXODJUvCpEGQqrKKh6q6TgLqztmDqEYYL9LHjdWwPIiJ57',\n",
    "  '8McRtcZxuxgeD5EnjPTbuE9hqsYNjM72wOq4aJfyJNAiYvDAiW',\n",
    "  'RcrJdBFaYkPGebFtMSEtBymPeVp6qwKllhCn7cAiH4osuTdLs5',\n",
    "  '7SkZgrScvxZ4YwKkredj7ADadEMeSBijGK81w2Qw1NtuSRPll7'\n",
    ")\n",
    "\n",
    "# Make the request\n",
    "client.info()"
   ]
  },
  {
   "cell_type": "markdown",
   "id": "826e1bf0",
   "metadata": {},
   "source": [
    "## To search on a term (here \"proana\"), use `proana = client.tagged(\"proana\")`"
   ]
  },
  {
   "cell_type": "code",
   "execution_count": 4,
   "id": "0a727b8c",
   "metadata": {},
   "outputs": [],
   "source": [
    "t = time.time() #Gets the current time\n",
    "\n",
    "proana_df = [] #holds the returned info\n",
    "\n",
    "\n",
    "for i in range(1000): #sets the number of API calls we want to make (we get 20 posts per call)\n",
    "    while len(proana_df) < 100: #Cap on number items in proana_df. Number of posts = this number x 20\n",
    "        proana = client.tagged(\"proana\", before = t) #Gets the 20 posts before time t\n",
    "        df = pd.DataFrame(proana) #Converts the returned json into a pandas dataframe\n",
    "        t = df['timestamp'].min() # resets the time, t, to the earliest in the retrieved data.\n",
    "        proana_df.append(df) # appends retrieved data to proana_df\n",
    "    \n",
    "    \n",
    "    "
   ]
  },
  {
   "cell_type": "code",
   "execution_count": 63,
   "id": "94e647f2",
   "metadata": {},
   "outputs": [
    {
     "data": {
      "text/plain": [
       "Index(['type', 'is_blocks_post_format', 'blog_name', 'blog', 'id', 'id_string',\n",
       "       'is_blazed', 'is_blaze_pending', 'can_ignite', 'can_blaze', 'post_url',\n",
       "       'slug', 'date', 'timestamp', 'state', 'format', 'reblog_key', 'tags',\n",
       "       'short_url', 'summary', 'should_open_in_legacy', 'recommended_source',\n",
       "       'recommended_color', 'followed', 'liked', 'note_count', 'title', 'body',\n",
       "       'reblog', 'trail', 'can_like', 'interactability_reblog',\n",
       "       'interactability_blaze', 'can_reblog', 'can_send_in_message',\n",
       "       'can_reply', 'display_avatar', 'body_abstract', 'is_pinned',\n",
       "       'asking_name', 'asking_url', 'question', 'answer', 'post_author',\n",
       "       'asking_avatar', 'caption', 'image_permalink', 'photos',\n",
       "       'photoset_layout', 'dialogue'],\n",
       "      dtype='object')"
      ]
     },
     "execution_count": 63,
     "metadata": {},
     "output_type": "execute_result"
    }
   ],
   "source": [
    "pa_df.columns"
   ]
  },
  {
   "cell_type": "code",
   "execution_count": 13,
   "id": "7feb4ed2",
   "metadata": {},
   "outputs": [],
   "source": [
    "pa_df = pa_df.reset_index(drop = True)"
   ]
  },
  {
   "cell_type": "code",
   "execution_count": 14,
   "id": "fee0d7ff",
   "metadata": {},
   "outputs": [
    {
     "data": {
      "text/plain": [
       "'<h1>26.10.2023</h1><p>dinner: cookie white chocolate and cream Frappuccino </p><p>Drinks: 3 beers, cactus juice</p>'"
      ]
     },
     "execution_count": 14,
     "metadata": {},
     "output_type": "execute_result"
    }
   ],
   "source": [
    "pa_df['body'][5]"
   ]
  },
  {
   "cell_type": "code",
   "execution_count": 34,
   "id": "74b08105",
   "metadata": {},
   "outputs": [],
   "source": [
    "from bs4 import BeautifulSoup\n",
    "\n",
    "def text(html_string):\n",
    "    soup = BeautifulSoup(html_string, 'html.parser')\n",
    "    \n",
    "    # Replace each <p> and <h1> tag with its text followed by a space\n",
    "    for tag in soup.find_all(['p', 'h1']):\n",
    "        tag.replace_with(tag.get_text() + ' ')\n",
    "    \n",
    "    return soup.get_text()"
   ]
  },
  {
   "cell_type": "code",
   "execution_count": 35,
   "id": "7aa23d81",
   "metadata": {},
   "outputs": [
    {
     "data": {
      "text/plain": [
       "'26.10.2023 dinner: cookie white chocolate and cream Frappuccino  Drinks: 3 beers, cactus juice '"
      ]
     },
     "execution_count": 35,
     "metadata": {},
     "output_type": "execute_result"
    }
   ],
   "source": [
    "text(pa_df['body'][5])"
   ]
  },
  {
   "cell_type": "markdown",
   "id": "e2915e87",
   "metadata": {},
   "source": [
    "pa_df['body'][5]"
   ]
  },
  {
   "cell_type": "code",
   "execution_count": 19,
   "id": "c11cf366",
   "metadata": {},
   "outputs": [
    {
     "data": {
      "text/plain": [
       "'<h1>26.10.2023</h1><p>dinner: cookie white chocolate and cream Frappuccino </p><p>Drinks: 3 beers, cactus juice</p>'"
      ]
     },
     "metadata": {},
     "output_type": "display_data"
    }
   ],
   "source": [
    "display(pa_df['body'][5])"
   ]
  },
  {
   "cell_type": "markdown",
   "id": "05526e99",
   "metadata": {},
   "source": [
    "display(pa_df['body'][5])"
   ]
  },
  {
   "cell_type": "code",
   "execution_count": 20,
   "id": "3459583c",
   "metadata": {},
   "outputs": [],
   "source": [
    "from IPython.core.display import display, HTML\n"
   ]
  },
  {
   "cell_type": "code",
   "execution_count": 23,
   "id": "b74daf2c",
   "metadata": {},
   "outputs": [
    {
     "data": {
      "text/plain": [
       "'<h1>26.10.2023</h1><p>dinner: cookie white chocolate and cream Frappuccino </p><p>Drinks: 3 beers, cactus juice</p>'"
      ]
     },
     "metadata": {},
     "output_type": "display_data"
    }
   ],
   "source": [
    "html_content = display(pa_df['body'][5])\n"
   ]
  },
  {
   "cell_type": "code",
   "execution_count": 24,
   "id": "72377dbb",
   "metadata": {},
   "outputs": [
    {
     "data": {
      "text/plain": [
       "<IPython.core.display.HTML object>"
      ]
     },
     "metadata": {},
     "output_type": "display_data"
    }
   ],
   "source": [
    "display(HTML(html_content))\n"
   ]
  },
  {
   "cell_type": "code",
   "execution_count": null,
   "id": "afd595a6",
   "metadata": {},
   "outputs": [],
   "source": []
  }
 ],
 "metadata": {
  "kernelspec": {
   "display_name": "Python 3 (ipykernel)",
   "language": "python",
   "name": "python3"
  },
  "language_info": {
   "codemirror_mode": {
    "name": "ipython",
    "version": 3
   },
   "file_extension": ".py",
   "mimetype": "text/x-python",
   "name": "python",
   "nbconvert_exporter": "python",
   "pygments_lexer": "ipython3",
   "version": "3.9.7"
  }
 },
 "nbformat": 4,
 "nbformat_minor": 5
}
